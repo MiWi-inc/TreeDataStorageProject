{
  "nbformat": 4,
  "nbformat_minor": 0,
  "metadata": {
    "colab": {
      "provenance": []
    },
    "kernelspec": {
      "name": "python3",
      "display_name": "Python 3"
    },
    "language_info": {
      "name": "python"
    }
  },
  "cells": [
    {
      "cell_type": "code",
      "execution_count": 24,
      "metadata": {
        "id": "oB1Ose9tq_dL"
      },
      "outputs": [],
      "source": [
        "import cv2\n",
        "from scipy.stats import entropy as scipy_entropy\n",
        "from PIL import Image\n",
        "from skimage.transform import resize\n",
        "from skimage.io import imread\n",
        "from skimage.color import rgb2gray\n",
        "import skimage.measure        \n",
        "from numpy import unique\n",
        "\n",
        "import cv2\n",
        "import numpy as np\n",
        "import matplotlib.pyplot as plt\n",
        "from sklearn.cluster import MiniBatchKMeans\n",
        "from sklearn.cluster import KMeans\n",
        "\n",
        "path_1 = '/content/img1.jpg'\n",
        "path_2 = '/content/img2.jpg'\n",
        "path_3 = '/content/img.png'"
      ]
    },
    {
      "cell_type": "code",
      "source": [
        "def resizing(img_path):\n",
        "\n",
        "    input = cv2.imread(img_path)\n",
        "\n",
        "    image = cv2.resize(input, (128,128)) \n",
        "\n",
        "    return(image)"
      ],
      "metadata": {
        "id": "7TiLNgjJrDcP"
      },
      "execution_count": 23,
      "outputs": []
    },
    {
      "cell_type": "code",
      "source": [
        "def quantizer(clusters, img_path, task):\n",
        "    \"\"\"Quantizes an image based on a colour palette that K-means creates\n",
        "    and saves the quantized image on the disk\n",
        "    Args:\n",
        "        clusters (int): The number of the clusters i.e. the number of colours\n",
        "        img_path (str): The path of the input image\n",
        "    \"\"\"\n",
        "    # Load the image\n",
        "    # image = cv2.imread(img_path)\n",
        "    image = resizing(img_path)\n",
        "    h, w = image.shape[:2]\n",
        "\n",
        "    # Conversion to L*a*b* gamut for perptual meaning\n",
        "    image = cv2.cvtColor(image, cv2.COLOR_BGR2LAB)\n",
        "\n",
        "    # reshape the image into a feature vector for k-means\n",
        "    image = image.reshape((image.shape[0] * image.shape[1], 3))\n",
        "\n",
        "    # Apply K-means and create the quantized image\n",
        "    clf = MiniBatchKMeans(n_clusters = clusters)\n",
        "    labels = clf.fit_predict(image)\n",
        "    quantized = clf.cluster_centers_.astype(\"uint8\")[labels]\n",
        "\n",
        "    # Reshape the feature vectors to back to images\n",
        "    quantized = quantized.reshape((h, w, 3))\n",
        "    image = image.reshape((h, w, 3))\n",
        "\n",
        "    # Convert from L*a*b* to RGB\n",
        "    quantized = cv2.cvtColor(quantized, cv2.COLOR_LAB2RGB, cv2.CV_8U)\n",
        "    image = cv2.cvtColor(image, cv2.COLOR_LAB2RGB, cv2.CV_8U)\n",
        "\n",
        "    if task == 'preprocessing':\n",
        "      return quantized\n",
        "\n",
        "    if task == 'see_preprocessed_img':\n",
        "      plt.imshow(np.hstack([image, quantized]))\n",
        "      plt.show()\n",
        "      \n",
        "    if task == 'save_preprocessed_img':\n",
        "      quantized = cv2.cvtColor(quantized, cv2.COLOR_RGB2BGR, cv2.CV_8U)\n",
        "      image = cv2.cvtColor(image, cv2.COLOR_RGB2BGR, cv2.CV_8U)\n",
        "      cv2.imwrite(f\"color_quantization_{clusters}.jpg\", np.hstack([image, quantized]))     "
      ],
      "metadata": {
        "id": "V7_-1A-Zr5i2"
      },
      "execution_count": 7,
      "outputs": []
    },
    {
      "cell_type": "code",
      "source": [
        "def entropy(n_colors, img_path):\n",
        "\n",
        "    image = quantizer(n_colors, img_path, 'preprocessing')\n",
        "\n",
        "    value, counts = unique(image, return_counts=True)\n",
        "    entropy =  scipy_entropy(counts, base=2)\n",
        "\n",
        "    # return(print(f\"Image Entropy scipy {entropy}\"))\n",
        "    return entropy"
      ],
      "metadata": {
        "id": "6Q6c8V4FrG3p"
      },
      "execution_count": 4,
      "outputs": []
    },
    {
      "cell_type": "code",
      "source": [
        "def shannon_entropy(n_colors, img_path):\n",
        "\n",
        "    image = quantizer(n_colors, img_path, 'preprocessing')\n",
        "\n",
        "    entropy = skimage.measure.shannon_entropy(image)\n",
        "\n",
        "    # return(print(f\"Image Entropy skimage {entropy}\"))\n",
        "    return entropy"
      ],
      "metadata": {
        "id": "io_AdxGDrNGK"
      },
      "execution_count": 5,
      "outputs": []
    },
    {
      "cell_type": "code",
      "source": [
        "# colors = 25\n",
        "# quantizer(colors, path_1, 'see_preprocessed_img')\n",
        "# colors = 60\n",
        "# quantizer(colors, path_2, 'see_preprocessed_img')\n",
        "# colors = 20\n",
        "# quantizer(colors, path_3, 'see_preprocessed_img')\n",
        "# entropy(colors, path_2)"
      ],
      "metadata": {
        "id": "-pirP6GyrWNj"
      },
      "execution_count": 31,
      "outputs": []
    }
  ]
}